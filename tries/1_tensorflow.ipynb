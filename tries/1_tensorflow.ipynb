{
 "cells": [
  {
   "cell_type": "code",
   "execution_count": 1,
   "metadata": {},
   "outputs": [],
   "source": [
    "import tensorflow as tf\n",
    "# from beholder import Beholder\n",
    "from tensorboard.plugins.beholder import Beholder\n",
    "beholder = Beholder(\"output\")"
   ]
  },
  {
   "cell_type": "code",
   "execution_count": 2,
   "metadata": {},
   "outputs": [
    {
     "name": "stdout",
     "output_type": "stream",
     "text": [
      "WARNING:tensorflow:From <ipython-input-2-d2e65ad4d999>:2: read_data_sets (from tensorflow.contrib.learn.python.learn.datasets.mnist) is deprecated and will be removed in a future version.\n",
      "Instructions for updating:\n",
      "Please use alternatives such as official/mnist/dataset.py from tensorflow/models.\n",
      "WARNING:tensorflow:From C:\\Users\\Dell\\Anaconda3\\lib\\site-packages\\tensorflow\\contrib\\learn\\python\\learn\\datasets\\mnist.py:260: maybe_download (from tensorflow.contrib.learn.python.learn.datasets.base) is deprecated and will be removed in a future version.\n",
      "Instructions for updating:\n",
      "Please write your own downloading logic.\n",
      "WARNING:tensorflow:From C:\\Users\\Dell\\Anaconda3\\lib\\site-packages\\tensorflow\\contrib\\learn\\python\\learn\\datasets\\mnist.py:262: extract_images (from tensorflow.contrib.learn.python.learn.datasets.mnist) is deprecated and will be removed in a future version.\n",
      "Instructions for updating:\n",
      "Please use tf.data to implement this functionality.\n",
      "Extracting /tmp/data/train-images-idx3-ubyte.gz\n",
      "WARNING:tensorflow:From C:\\Users\\Dell\\Anaconda3\\lib\\site-packages\\tensorflow\\contrib\\learn\\python\\learn\\datasets\\mnist.py:267: extract_labels (from tensorflow.contrib.learn.python.learn.datasets.mnist) is deprecated and will be removed in a future version.\n",
      "Instructions for updating:\n",
      "Please use tf.data to implement this functionality.\n",
      "Extracting /tmp/data/train-labels-idx1-ubyte.gz\n",
      "WARNING:tensorflow:From C:\\Users\\Dell\\Anaconda3\\lib\\site-packages\\tensorflow\\contrib\\learn\\python\\learn\\datasets\\mnist.py:110: dense_to_one_hot (from tensorflow.contrib.learn.python.learn.datasets.mnist) is deprecated and will be removed in a future version.\n",
      "Instructions for updating:\n",
      "Please use tf.one_hot on tensors.\n",
      "Extracting /tmp/data/t10k-images-idx3-ubyte.gz\n",
      "Extracting /tmp/data/t10k-labels-idx1-ubyte.gz\n",
      "WARNING:tensorflow:From C:\\Users\\Dell\\Anaconda3\\lib\\site-packages\\tensorflow\\contrib\\learn\\python\\learn\\datasets\\mnist.py:290: DataSet.__init__ (from tensorflow.contrib.learn.python.learn.datasets.mnist) is deprecated and will be removed in a future version.\n",
      "Instructions for updating:\n",
      "Please use alternatives such as official/mnist/dataset.py from tensorflow/models.\n"
     ]
    }
   ],
   "source": [
    "from tensorflow.examples.tutorials.mnist import input_data\n",
    "mnist = input_data.read_data_sets(\"/tmp/data/\", one_hot = True)"
   ]
  },
  {
   "cell_type": "code",
   "execution_count": 3,
   "metadata": {},
   "outputs": [
    {
     "data": {
      "text/plain": [
       "dtype('float32')"
      ]
     },
     "execution_count": 3,
     "metadata": {},
     "output_type": "execute_result"
    }
   ],
   "source": [
    "mnist.test.images.dtype"
   ]
  },
  {
   "cell_type": "code",
   "execution_count": 4,
   "metadata": {},
   "outputs": [],
   "source": [
    "hidden_1 = 500\n",
    "hidden_2 = 500\n",
    "hidden_3 = 500\n",
    "\n",
    "n_classes = 10\n",
    "epochs = 10\n",
    "batch_size = 128\n",
    "lr = 1e-3 \n",
    "tf.reset_default_graph()"
   ]
  },
  {
   "cell_type": "code",
   "execution_count": 5,
   "metadata": {},
   "outputs": [],
   "source": [
    "with tf.name_scope('inputs'):\n",
    "    x = tf.placeholder('float', [None, 28*28])\n",
    "    y = tf.placeholder('float', [None, 10])\n",
    "acc_ = tf.placeholder('float')\n",
    "acc_val_ = tf.placeholder('float')\n",
    "c = tf.Variable('float')"
   ]
  },
  {
   "cell_type": "code",
   "execution_count": 6,
   "metadata": {},
   "outputs": [],
   "source": [
    "dropout = 0.4\n",
    "def neural_network():\n",
    "    # MNIST data input is a 1-D vector of 784 features (28*28 pixels)\n",
    "        # Reshape to match picture format [Height x Width x Channel]\n",
    "        # Tensor input become 4-D: [Batch Size, Height, Width, Channel]\n",
    "    with tf.name_scope('reshape'):\n",
    "        img = tf.reshape(x, shape=[-1, 28, 28, 1])\n",
    "        \n",
    "        # Convolution Layer with 32 filters and a kernel size of 5\n",
    "    with tf.name_scope('convolution_1'):\n",
    "        conv1 = tf.layers.conv2d(img, 32, 5, \n",
    "                                 activation=tf.nn.relu,\n",
    "                                 kernel_initializer=tf.contrib.layers.xavier_initializer(uniform=False))\n",
    "        # Max Pooling (down-sampling) with strides of 2 and kernel size of 2\n",
    "        max_pool1 = tf.layers.max_pooling2d(conv1, 2, 2)\n",
    "#         variable_summaries(max_pool1)\n",
    "        # Convolution Layer with 64 filters and a kernel size of 3\n",
    "    with tf.name_scope('convolution_2'):    \n",
    "        conv2 = tf.layers.conv2d(max_pool1, 64, 3, \n",
    "                                 activation=tf.nn.relu,\n",
    "                                 kernel_initializer=tf.contrib.layers.xavier_initializer(uniform=False))\n",
    "        max_pool2 = tf.layers.max_pooling2d(conv2, 2, 2)\n",
    "\n",
    "        # Flatten the data to a 1-D vector for the fully connected layer\n",
    "    with tf.name_scope('flatten_dense'):\n",
    "        fc1 = tf.contrib.layers.flatten(conv2)\n",
    "        fc1 = tf.layers.dense(fc1, 1024, \n",
    "                              activation = tf.nn.relu,\n",
    "                             kernel_initializer=tf.contrib.layers.xavier_initializer(uniform=False))\n",
    "\n",
    "        # Output layer, class prediction\n",
    "    with tf.name_scope('outputs'):\n",
    "        output = tf.layers.dense(fc1, n_classes, activation = tf.nn.softmax,\n",
    "                                kernel_initializer=tf.contrib.layers.xavier_initializer(uniform=False))\n",
    "\n",
    "    return output"
   ]
  },
  {
   "cell_type": "code",
   "execution_count": 8,
   "metadata": {
    "scrolled": false
   },
   "outputs": [
    {
     "name": "stdout",
     "output_type": "stream",
     "text": [
      "Epoch 0 completed out of 2 loss  1.527210428442432\n",
      "Epoch 1 completed out of 2 loss  1.481690270083768\n",
      "Model saved in path: model/model.ckpt\n"
     ]
    }
   ],
   "source": [
    "prediction = neural_network()\n",
    "cost = tf.reduce_mean(tf.nn.softmax_cross_entropy_with_logits_v2(logits = prediction, labels = y))\n",
    "optimizer = tf.train.AdamOptimizer(lr, name = \"Adam\").minimize(cost)\n",
    "\n",
    "correct = tf.equal(tf.argmax(prediction, 1), tf.argmax(y, 1))\n",
    "accuracy = tf.reduce_mean(tf.cast(correct, 'float'))\n",
    "\n",
    "epochs = 2\n",
    "\n",
    "accuracy_summary = tf.summary.scalar('Accuracy', acc_)\n",
    "accuracy_val_summary = tf.summary.scalar('Accuracy_Validation', acc_val_)\n",
    "\n",
    "saver = tf.train.Saver()\n",
    "\n",
    "config = tf.ConfigProto()\n",
    "config.gpu_options.allow_growth = True\n",
    "\n",
    "with tf.Session(config=config) as sess:\n",
    "    sess.run(tf.global_variables_initializer())\n",
    "    \n",
    "    for epoch in range(epochs):\n",
    "        avg_loss =  0\n",
    "        for _ in range(int(mnist.train.num_examples/batch_size)):\n",
    "            x_epoch, y_epoch = mnist.train.next_batch(batch_size)\n",
    "            \n",
    "            _, c = sess.run([optimizer, cost], feed_dict = {x:x_epoch, y:y_epoch})\n",
    "            avg_loss += c / int(mnist.train.num_examples/batch_size)\n",
    "        print('Epoch', epoch, 'completed out of', epochs, 'loss ', avg_loss)       \n",
    "    \n",
    "    save_path = saver.save(sess, \"model/model.ckpt\")\n",
    "    print(\"Model saved in path: %s\" % save_path)  \n",
    "\n",
    "#     gr = tf.get_default_graph()\n",
    "#     conv1_kernel_val = gr.get_tensor_by_name('conv2d_2/kernel:0').eval(session = sess)"
   ]
  },
  {
   "cell_type": "code",
   "execution_count": 21,
   "metadata": {},
   "outputs": [
    {
     "name": "stdout",
     "output_type": "stream",
     "text": [
      "INFO:tensorflow:Restoring parameters from model/model.ckpt\n"
     ]
    }
   ],
   "source": [
    "config = tf.ConfigProto(\n",
    "gpu_options = tf.GPUOptions(per_process_gpu_memory_fraction=0.8)\n",
    "# device_count = {'GPU': 1}\n",
    ")\n",
    "config.gpu_options.allow_growth = True\n",
    "with tf.Session(config=config) as sess:\n",
    "    sess.run(tf.global_variables_initializer())\n",
    "    saver.restore(sess, \"model/model.ckpt\")\n",
    "    gr = tf.get_default_graph()\n",
    "#     conv1_kernel_val_1 = gr.get_tensor_by_name('conv2d_2/kernel:0').eval(session = sess)\n",
    "#     conv1_kernel_val_2 = gr.get_tensor_by_name('conv2d_3/kernel:0').eval(session = sess)\n",
    "    pred = sess.run(prediction, feed_dict = {x:[mnist.test.images[0]]})"
   ]
  },
  {
   "cell_type": "code",
   "execution_count": 22,
   "metadata": {},
   "outputs": [
    {
     "data": {
      "text/plain": [
       "(1, 10)"
      ]
     },
     "execution_count": 22,
     "metadata": {},
     "output_type": "execute_result"
    }
   ],
   "source": [
    "pred.shape\n"
   ]
  },
  {
   "cell_type": "code",
   "execution_count": null,
   "metadata": {},
   "outputs": [],
   "source": [
    "# conv1_kernel_val_1.shape# Convolution Layer with 32 filters and a kernel size of 5"
   ]
  },
  {
   "cell_type": "code",
   "execution_count": null,
   "metadata": {},
   "outputs": [],
   "source": [
    "# conv1_kernel_val_2.shape# Convolution Layer with 64 filters and a kernel size of 3"
   ]
  },
  {
   "cell_type": "code",
   "execution_count": null,
   "metadata": {},
   "outputs": [],
   "source": [
    "# tmep = conv1_kernel_val_1.reshape(-1)\n",
    "# tmep = tmep.reshape(32, 25)"
   ]
  },
  {
   "cell_type": "code",
   "execution_count": null,
   "metadata": {
    "scrolled": true
   },
   "outputs": [],
   "source": [
    "# import matplotlib.pyplot as plt\n",
    "# for i in range(32):\n",
    "#     plt.imshow(tmep[i].reshape(5, 5), cmap = 'gray')\n",
    "#     plt.show()"
   ]
  },
  {
   "cell_type": "code",
   "execution_count": null,
   "metadata": {},
   "outputs": [],
   "source": [
    "import numpy as np\n",
    "predicted_values = []\n",
    "for i in range(len(pred[0])):\n",
    "    index_max = np.argmax(pred[0][i])\n",
    "    predicted_values.append(index_max)"
   ]
  },
  {
   "cell_type": "code",
   "execution_count": null,
   "metadata": {},
   "outputs": [],
   "source": [
    "actual = []\n",
    "for i in range(len(pred[0])):\n",
    "    index_max = np.argmax(mnist.test.labels[i])\n",
    "    actual.append(index_max )"
   ]
  },
  {
   "cell_type": "code",
   "execution_count": null,
   "metadata": {},
   "outputs": [],
   "source": [
    "import matplotlib.pyplot as plt\n",
    "import numpy as np\n",
    "def imshow(img):\n",
    " # unnormalize\n",
    "    #npimg = img.numpy()\n",
    "    plt.imshow(np.transpose(img[0], (1, 2, 0)))\n",
    "    plt.show()\n",
    "plt.imshow((mnist.test.images[0]).reshape((28, 28)))"
   ]
  },
  {
   "cell_type": "code",
   "execution_count": null,
   "metadata": {},
   "outputs": [],
   "source": [
    "def classification_metrics(actual, pred, msg):\n",
    "    from sklearn.metrics import confusion_matrix\n",
    "    cm = confusion_matrix(actual, pred)\n",
    "    import seaborn as sns     \n",
    "\n",
    "    plt.figure()\n",
    "    ax= plt.subplot()\n",
    "    sns.heatmap(cm, annot = True, fmt = 'g')\n",
    "\n",
    "    # labels, title and ticks\n",
    "    ax.set_xlabel('Predicted labels')\n",
    "    ax.set_ylabel('True labels') \n",
    "    ax.set_title('Confusion Matrix')\n",
    "    ax.xaxis.set_ticklabels(['0', '1', '2', '3', '4', '5', '6', '7', '8', '9']) \n",
    "    ax.yaxis.set_ticklabels(['0', '1', '2', '3', '4', '5', '6', '7', '8', '9'])   \n",
    "    plt.show()       \n",
    "    sensitivity = cm[1][1]/(cm[1][0] + cm[1][1])\n",
    "    specifity = cm[0][0]/(cm[0][0] + cm[0][1])\n",
    "    accuracy = (cm[0][0] + cm[1][1]) / np.sum(cm)\n",
    "    \n",
    "#     print(msg, '\\n')\n",
    "#     print('accuracy:    ', round(accuracy,2), \n",
    "#       '\\nsensitivity: ', round(sensitivity,2), \n",
    "#       '\\nspecifity:   ', round(specifity,2))\n",
    "    from sklearn.metrics import classification_report\n",
    "    print(classification_report(actual, pred))\n",
    "              \n"
   ]
  },
  {
   "cell_type": "code",
   "execution_count": null,
   "metadata": {},
   "outputs": [],
   "source": [
    "classification_metrics(actual, predicted_values, msg = '')"
   ]
  },
  {
   "cell_type": "markdown",
   "metadata": {},
   "source": [
    "## tensorboard --logdir=output/ --host localhost --port 8088"
   ]
  },
  {
   "cell_type": "code",
   "execution_count": null,
   "metadata": {},
   "outputs": [],
   "source": []
  }
 ],
 "metadata": {
  "kernelspec": {
   "display_name": "Python 3",
   "language": "python",
   "name": "python3"
  },
  "language_info": {
   "codemirror_mode": {
    "name": "ipython",
    "version": 3
   },
   "file_extension": ".py",
   "mimetype": "text/x-python",
   "name": "python",
   "nbconvert_exporter": "python",
   "pygments_lexer": "ipython3",
   "version": "3.6.7"
  }
 },
 "nbformat": 4,
 "nbformat_minor": 2
}
