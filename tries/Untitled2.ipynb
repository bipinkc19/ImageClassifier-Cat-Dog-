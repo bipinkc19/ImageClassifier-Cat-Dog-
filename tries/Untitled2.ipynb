{
 "cells": [
  {
   "cell_type": "code",
   "execution_count": 2,
   "metadata": {},
   "outputs": [],
   "source": [
    "#importing necessary packages\n",
    "import numpy as np\n",
    "import matplotlib.pyplot as plt \n",
    "import tensorflow as tf\n",
    "\n",
    "from PIL import Image\n",
    "%matplotlib inline\n",
    "#for writing text files\n",
    "import glob\n",
    "import os     \n",
    "import random \n",
    "#reading images from a text file\n",
    "import math"
   ]
  },
  {
   "cell_type": "code",
   "execution_count": null,
   "metadata": {},
   "outputs": [],
   "source": [
    "IMAGE_FOLDER = './dataset/'\n",
    "TRAIN_DATA = '/Users/Enkay/Documents/Viky/python/img-classification/training_data.txt'\n",
    "TEST_DATA = '/Users/Enkay/Documents/Viky/python/img-classification/test_data.txt'\n",
    "VALIDATION_DATA = '/Users/Enkay/Documents/Viky/python/img-classification/validation_data.txt'\n",
    "train_proportion=0.7\n",
    "test_proportion=0.2\n",
    "validation_proportion=0.1"
   ]
  }
 ],
 "metadata": {
  "kernelspec": {
   "display_name": "Python 3",
   "language": "python",
   "name": "python3"
  },
  "language_info": {
   "codemirror_mode": {
    "name": "ipython",
    "version": 3
   },
   "file_extension": ".py",
   "mimetype": "text/x-python",
   "name": "python",
   "nbconvert_exporter": "python",
   "pygments_lexer": "ipython3",
   "version": "3.6.7"
  }
 },
 "nbformat": 4,
 "nbformat_minor": 2
}
