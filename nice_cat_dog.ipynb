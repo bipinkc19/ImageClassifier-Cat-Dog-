{
 "cells": [
  {
   "cell_type": "code",
   "execution_count": 1,
   "metadata": {},
   "outputs": [],
   "source": [
    "import os\n",
    "import os.path\n",
    "import shutil\n",
    "import tensorflow as tf\n",
    "from tensorboard.plugins.beholder import Beholder\n",
    "import pickle\n",
    "import numpy as np\n",
    "import math"
   ]
  },
  {
   "cell_type": "code",
   "execution_count": 2,
   "metadata": {},
   "outputs": [],
   "source": [
    "# from keras.datasets import mnist\n",
    "# (X_train, y_train), (X_test, y_test) = mnist.load_data()"
   ]
  },
  {
   "cell_type": "code",
   "execution_count": 3,
   "metadata": {},
   "outputs": [],
   "source": [
    "X_train = pickle.load(open(\"X_train.pickle\", \"rb\"))\n",
    "y_train = pickle.load(open(\"y_train.pickle\", \"rb\"))\n",
    "X_test = pickle.load(open(\"X_test.pickle\", \"rb\"))\n",
    "y_test = pickle.load(open(\"y_test.pickle\", \"rb\"))\n",
    "\n",
    "\n",
    "X_train = X_train.astype('float32')\n",
    "y_train = y_train.astype('float32')\n",
    "X_test = X_test.astype('float32')\n",
    "y_test = y_test.astype('float32')"
   ]
  },
  {
   "cell_type": "code",
   "execution_count": 4,
   "metadata": {},
   "outputs": [],
   "source": [
    "one_hot = {0:[1, 0],\n",
    "           1:[0, 1]}"
   ]
  },
  {
   "cell_type": "code",
   "execution_count": 5,
   "metadata": {},
   "outputs": [],
   "source": [
    "# one_hot = {0: [1, 0, 0, 0, 0, 0, 0, 0, 0, 0],\n",
    "#            1: [0, 1, 0, 0, 0, 0, 0, 0, 0, 0],\n",
    "#            2: [0, 0, 1, 0, 0, 0, 0, 0, 0, 0],\n",
    "#            3: [0, 0, 0, 1, 0, 0, 0, 0, 0, 0],\n",
    "#            4: [0, 0, 0, 0, 1, 0, 0, 0, 0, 0],\n",
    "#            5: [0, 0, 0, 0, 0, 1, 0, 0, 0, 0],\n",
    "#            6: [0, 0, 0, 0, 0, 0, 1, 0, 0, 0],\n",
    "#            7: [0, 0, 0, 0, 0, 0, 0, 1, 0, 0],\n",
    "#            8: [0, 0, 0, 0, 0, 0, 0, 0, 1, 0],\n",
    "#            9: [0, 0, 0, 0, 0, 0, 0, 0, 0, 1]}"
   ]
  },
  {
   "cell_type": "code",
   "execution_count": 6,
   "metadata": {},
   "outputs": [
    {
     "data": {
      "text/plain": [
       "(2000, 299, 299, 3)"
      ]
     },
     "execution_count": 6,
     "metadata": {},
     "output_type": "execute_result"
    }
   ],
   "source": [
    "# (X_train, y_train), (X_test, y_test) = tf.keras.datasets.mnist.load_data()\n",
    "X_train.shape"
   ]
  },
  {
   "cell_type": "code",
   "execution_count": 7,
   "metadata": {},
   "outputs": [
    {
     "data": {
      "text/plain": [
       "<Figure size 640x480 with 1 Axes>"
      ]
     },
     "metadata": {},
     "output_type": "display_data"
    }
   ],
   "source": [
    "import matplotlib.pyplot as plt\n",
    "plt.imshow((X_train[0]).astype(int))\n",
    "plt.show()\n"
   ]
  },
  {
   "cell_type": "code",
   "execution_count": 8,
   "metadata": {},
   "outputs": [],
   "source": [
    "y_labels_test = []\n",
    "y_labels_train = []\n",
    "for y in y_test:\n",
    "    y_labels_test.append(one_hot[y])\n",
    "for y in y_train:\n",
    "    y_labels_train.append(one_hot[y])"
   ]
  },
  {
   "cell_type": "code",
   "execution_count": 9,
   "metadata": {},
   "outputs": [
    {
     "data": {
      "image/png": "[encoded data removed]",
      "text/plain": [
       "<Figure size 432x288 with 1 Axes>"
      ]
     },
     "metadata": {
      "needs_background": "light"
     },
     "output_type": "display_data"
    },
    {
     "name": "stdout",
     "output_type": "stream",
     "text": [
      "[0, 1]\n"
     ]
    }
   ],
   "source": [
    "import matplotlib.pyplot as plt\n",
    "plt.imshow((X_test[3]).astype(int))\n",
    "\n",
    "plt.show()\n",
    "print(y_labels_test[3])"
   ]
  },
  {
   "cell_type": "code",
   "execution_count": 10,
   "metadata": {},
   "outputs": [],
   "source": [
    "LOGDIR = 'el1'\n",
    "BATCH_SIZE = 256\n",
    "EPOCHS = 15\n",
    "LR = 1e-4"
   ]
  },
  {
   "cell_type": "code",
   "execution_count": 11,
   "metadata": {},
   "outputs": [],
   "source": [
    "def next_batch(num, data, labels):\n",
    "    idx = np.arange(0 , len(data))\n",
    "    np.random.shuffle(idx)\n",
    "    idx = idx[:num]\n",
    "    data_shuffle = [data[ i] for i in idx]\n",
    "    labels_shuffle = [labels[ i] for i in idx]\n",
    "\n",
    "    return np.asarray(data_shuffle), np.asarray(labels_shuffle)"
   ]
  },
  {
   "cell_type": "code",
   "execution_count": 14,
   "metadata": {
    "scrolled": true
   },
   "outputs": [
    {
     "name": "stdout",
     "output_type": "stream",
     "text": [
      "0\n",
      "1\n"
     ]
    },
    {
     "ename": "KeyboardInterrupt",
     "evalue": "",
     "output_type": "error",
     "traceback": [
      "\u001b[1;31m---------------------------------------------------------------------------\u001b[0m",
      "\u001b[1;31mKeyboardInterrupt\u001b[0m                         Traceback (most recent call last)",
      "\u001b[1;32m<ipython-input-14-97739a75d489>\u001b[0m in \u001b[0;36m<module>\u001b[1;34m\u001b[0m\n\u001b[0;32m    139\u001b[0m         \u001b[1;32mfor\u001b[0m \u001b[0mj\u001b[0m \u001b[1;32min\u001b[0m \u001b[0mrange\u001b[0m\u001b[1;33m(\u001b[0m\u001b[0mmath\u001b[0m\u001b[1;33m.\u001b[0m\u001b[0mceil\u001b[0m\u001b[1;33m(\u001b[0m\u001b[0mlen\u001b[0m\u001b[1;33m(\u001b[0m\u001b[0mX_train\u001b[0m\u001b[1;33m)\u001b[0m \u001b[1;33m/\u001b[0m \u001b[0mBATCH_SIZE\u001b[0m\u001b[1;33m)\u001b[0m\u001b[1;33m)\u001b[0m\u001b[1;33m:\u001b[0m\u001b[1;33m\u001b[0m\u001b[1;33m\u001b[0m\u001b[0m\n\u001b[0;32m    140\u001b[0m             \u001b[0mbatch_x\u001b[0m\u001b[1;33m,\u001b[0m \u001b[0mbatch_y\u001b[0m \u001b[1;33m=\u001b[0m \u001b[0mnext_batch\u001b[0m\u001b[1;33m(\u001b[0m\u001b[0mnum\u001b[0m \u001b[1;33m=\u001b[0m \u001b[0mBATCH_SIZE\u001b[0m\u001b[1;33m,\u001b[0m \u001b[0mdata\u001b[0m \u001b[1;33m=\u001b[0m \u001b[0mX_train\u001b[0m\u001b[1;33m,\u001b[0m \u001b[0mlabels\u001b[0m \u001b[1;33m=\u001b[0m \u001b[0my_labels_train\u001b[0m\u001b[1;33m)\u001b[0m\u001b[1;33m\u001b[0m\u001b[1;33m\u001b[0m\u001b[0m\n\u001b[1;32m--> 141\u001b[1;33m             \u001b[0msess\u001b[0m\u001b[1;33m.\u001b[0m\u001b[0mrun\u001b[0m\u001b[1;33m(\u001b[0m\u001b[0mtrain_step\u001b[0m\u001b[1;33m,\u001b[0m \u001b[0mfeed_dict\u001b[0m\u001b[1;33m=\u001b[0m\u001b[1;33m{\u001b[0m\u001b[0mx\u001b[0m\u001b[1;33m:\u001b[0m \u001b[0mbatch_x\u001b[0m\u001b[1;33m,\u001b[0m \u001b[0my\u001b[0m\u001b[1;33m:\u001b[0m \u001b[0mbatch_y\u001b[0m\u001b[1;33m}\u001b[0m\u001b[1;33m)\u001b[0m\u001b[1;33m\u001b[0m\u001b[1;33m\u001b[0m\u001b[0m\n\u001b[0m\u001b[0;32m    142\u001b[0m         \u001b[0mbeholder\u001b[0m\u001b[1;33m.\u001b[0m\u001b[0mupdate\u001b[0m\u001b[1;33m(\u001b[0m\u001b[0msession\u001b[0m\u001b[1;33m=\u001b[0m\u001b[0msess\u001b[0m\u001b[1;33m)\u001b[0m\u001b[1;33m\u001b[0m\u001b[1;33m\u001b[0m\u001b[0m\n\u001b[0;32m    143\u001b[0m \u001b[1;33m\u001b[0m\u001b[0m\n",
      "\u001b[1;32m~\\Anaconda3\\lib\\site-packages\\tensorflow\\python\\client\\session.py\u001b[0m in \u001b[0;36mrun\u001b[1;34m(self, fetches, feed_dict, options, run_metadata)\u001b[0m\n\u001b[0;32m    927\u001b[0m     \u001b[1;32mtry\u001b[0m\u001b[1;33m:\u001b[0m\u001b[1;33m\u001b[0m\u001b[1;33m\u001b[0m\u001b[0m\n\u001b[0;32m    928\u001b[0m       result = self._run(None, fetches, feed_dict, options_ptr,\n\u001b[1;32m--> 929\u001b[1;33m                          run_metadata_ptr)\n\u001b[0m\u001b[0;32m    930\u001b[0m       \u001b[1;32mif\u001b[0m \u001b[0mrun_metadata\u001b[0m\u001b[1;33m:\u001b[0m\u001b[1;33m\u001b[0m\u001b[1;33m\u001b[0m\u001b[0m\n\u001b[0;32m    931\u001b[0m         \u001b[0mproto_data\u001b[0m \u001b[1;33m=\u001b[0m \u001b[0mtf_session\u001b[0m\u001b[1;33m.\u001b[0m\u001b[0mTF_GetBuffer\u001b[0m\u001b[1;33m(\u001b[0m\u001b[0mrun_metadata_ptr\u001b[0m\u001b[1;33m)\u001b[0m\u001b[1;33m\u001b[0m\u001b[1;33m\u001b[0m\u001b[0m\n",
      "\u001b[1;32m~\\Anaconda3\\lib\\site-packages\\tensorflow\\python\\client\\session.py\u001b[0m in \u001b[0;36m_run\u001b[1;34m(self, handle, fetches, feed_dict, options, run_metadata)\u001b[0m\n\u001b[0;32m   1150\u001b[0m     \u001b[1;32mif\u001b[0m \u001b[0mfinal_fetches\u001b[0m \u001b[1;32mor\u001b[0m \u001b[0mfinal_targets\u001b[0m \u001b[1;32mor\u001b[0m \u001b[1;33m(\u001b[0m\u001b[0mhandle\u001b[0m \u001b[1;32mand\u001b[0m \u001b[0mfeed_dict_tensor\u001b[0m\u001b[1;33m)\u001b[0m\u001b[1;33m:\u001b[0m\u001b[1;33m\u001b[0m\u001b[1;33m\u001b[0m\u001b[0m\n\u001b[0;32m   1151\u001b[0m       results = self._do_run(handle, final_targets, final_fetches,\n\u001b[1;32m-> 1152\u001b[1;33m                              feed_dict_tensor, options, run_metadata)\n\u001b[0m\u001b[0;32m   1153\u001b[0m     \u001b[1;32melse\u001b[0m\u001b[1;33m:\u001b[0m\u001b[1;33m\u001b[0m\u001b[1;33m\u001b[0m\u001b[0m\n\u001b[0;32m   1154\u001b[0m       \u001b[0mresults\u001b[0m \u001b[1;33m=\u001b[0m \u001b[1;33m[\u001b[0m\u001b[1;33m]\u001b[0m\u001b[1;33m\u001b[0m\u001b[1;33m\u001b[0m\u001b[0m\n",
      "\u001b[1;32m~\\Anaconda3\\lib\\site-packages\\tensorflow\\python\\client\\session.py\u001b[0m in \u001b[0;36m_do_run\u001b[1;34m(self, handle, target_list, fetch_list, feed_dict, options, run_metadata)\u001b[0m\n\u001b[0;32m   1326\u001b[0m     \u001b[1;32mif\u001b[0m \u001b[0mhandle\u001b[0m \u001b[1;32mis\u001b[0m \u001b[1;32mNone\u001b[0m\u001b[1;33m:\u001b[0m\u001b[1;33m\u001b[0m\u001b[1;33m\u001b[0m\u001b[0m\n\u001b[0;32m   1327\u001b[0m       return self._do_call(_run_fn, feeds, fetches, targets, options,\n\u001b[1;32m-> 1328\u001b[1;33m                            run_metadata)\n\u001b[0m\u001b[0;32m   1329\u001b[0m     \u001b[1;32melse\u001b[0m\u001b[1;33m:\u001b[0m\u001b[1;33m\u001b[0m\u001b[1;33m\u001b[0m\u001b[0m\n\u001b[0;32m   1330\u001b[0m       \u001b[1;32mreturn\u001b[0m \u001b[0mself\u001b[0m\u001b[1;33m.\u001b[0m\u001b[0m_do_call\u001b[0m\u001b[1;33m(\u001b[0m\u001b[0m_prun_fn\u001b[0m\u001b[1;33m,\u001b[0m \u001b[0mhandle\u001b[0m\u001b[1;33m,\u001b[0m \u001b[0mfeeds\u001b[0m\u001b[1;33m,\u001b[0m \u001b[0mfetches\u001b[0m\u001b[1;33m)\u001b[0m\u001b[1;33m\u001b[0m\u001b[1;33m\u001b[0m\u001b[0m\n",
      "\u001b[1;32m~\\Anaconda3\\lib\\site-packages\\tensorflow\\python\\client\\session.py\u001b[0m in \u001b[0;36m_do_call\u001b[1;34m(self, fn, *args)\u001b[0m\n\u001b[0;32m   1332\u001b[0m   \u001b[1;32mdef\u001b[0m \u001b[0m_do_call\u001b[0m\u001b[1;33m(\u001b[0m\u001b[0mself\u001b[0m\u001b[1;33m,\u001b[0m \u001b[0mfn\u001b[0m\u001b[1;33m,\u001b[0m \u001b[1;33m*\u001b[0m\u001b[0margs\u001b[0m\u001b[1;33m)\u001b[0m\u001b[1;33m:\u001b[0m\u001b[1;33m\u001b[0m\u001b[1;33m\u001b[0m\u001b[0m\n\u001b[0;32m   1333\u001b[0m     \u001b[1;32mtry\u001b[0m\u001b[1;33m:\u001b[0m\u001b[1;33m\u001b[0m\u001b[1;33m\u001b[0m\u001b[0m\n\u001b[1;32m-> 1334\u001b[1;33m       \u001b[1;32mreturn\u001b[0m \u001b[0mfn\u001b[0m\u001b[1;33m(\u001b[0m\u001b[1;33m*\u001b[0m\u001b[0margs\u001b[0m\u001b[1;33m)\u001b[0m\u001b[1;33m\u001b[0m\u001b[1;33m\u001b[0m\u001b[0m\n\u001b[0m\u001b[0;32m   1335\u001b[0m     \u001b[1;32mexcept\u001b[0m \u001b[0merrors\u001b[0m\u001b[1;33m.\u001b[0m\u001b[0mOpError\u001b[0m \u001b[1;32mas\u001b[0m \u001b[0me\u001b[0m\u001b[1;33m:\u001b[0m\u001b[1;33m\u001b[0m\u001b[1;33m\u001b[0m\u001b[0m\n\u001b[0;32m   1336\u001b[0m       \u001b[0mmessage\u001b[0m \u001b[1;33m=\u001b[0m \u001b[0mcompat\u001b[0m\u001b[1;33m.\u001b[0m\u001b[0mas_text\u001b[0m\u001b[1;33m(\u001b[0m\u001b[0me\u001b[0m\u001b[1;33m.\u001b[0m\u001b[0mmessage\u001b[0m\u001b[1;33m)\u001b[0m\u001b[1;33m\u001b[0m\u001b[1;33m\u001b[0m\u001b[0m\n",
      "\u001b[1;32m~\\Anaconda3\\lib\\site-packages\\tensorflow\\python\\client\\session.py\u001b[0m in \u001b[0;36m_run_fn\u001b[1;34m(feed_dict, fetch_list, target_list, options, run_metadata)\u001b[0m\n\u001b[0;32m   1317\u001b[0m       \u001b[0mself\u001b[0m\u001b[1;33m.\u001b[0m\u001b[0m_extend_graph\u001b[0m\u001b[1;33m(\u001b[0m\u001b[1;33m)\u001b[0m\u001b[1;33m\u001b[0m\u001b[1;33m\u001b[0m\u001b[0m\n\u001b[0;32m   1318\u001b[0m       return self._call_tf_sessionrun(\n\u001b[1;32m-> 1319\u001b[1;33m           options, feed_dict, fetch_list, target_list, run_metadata)\n\u001b[0m\u001b[0;32m   1320\u001b[0m \u001b[1;33m\u001b[0m\u001b[0m\n\u001b[0;32m   1321\u001b[0m     \u001b[1;32mdef\u001b[0m \u001b[0m_prun_fn\u001b[0m\u001b[1;33m(\u001b[0m\u001b[0mhandle\u001b[0m\u001b[1;33m,\u001b[0m \u001b[0mfeed_dict\u001b[0m\u001b[1;33m,\u001b[0m \u001b[0mfetch_list\u001b[0m\u001b[1;33m)\u001b[0m\u001b[1;33m:\u001b[0m\u001b[1;33m\u001b[0m\u001b[1;33m\u001b[0m\u001b[0m\n",
      "\u001b[1;32m~\\Anaconda3\\lib\\site-packages\\tensorflow\\python\\client\\session.py\u001b[0m in \u001b[0;36m_call_tf_sessionrun\u001b[1;34m(self, options, feed_dict, fetch_list, target_list, run_metadata)\u001b[0m\n\u001b[0;32m   1405\u001b[0m     return tf_session.TF_SessionRun_wrapper(\n\u001b[0;32m   1406\u001b[0m         \u001b[0mself\u001b[0m\u001b[1;33m.\u001b[0m\u001b[0m_session\u001b[0m\u001b[1;33m,\u001b[0m \u001b[0moptions\u001b[0m\u001b[1;33m,\u001b[0m \u001b[0mfeed_dict\u001b[0m\u001b[1;33m,\u001b[0m \u001b[0mfetch_list\u001b[0m\u001b[1;33m,\u001b[0m \u001b[0mtarget_list\u001b[0m\u001b[1;33m,\u001b[0m\u001b[1;33m\u001b[0m\u001b[1;33m\u001b[0m\u001b[0m\n\u001b[1;32m-> 1407\u001b[1;33m         run_metadata)\n\u001b[0m\u001b[0;32m   1408\u001b[0m \u001b[1;33m\u001b[0m\u001b[0m\n\u001b[0;32m   1409\u001b[0m   \u001b[1;32mdef\u001b[0m \u001b[0m_call_tf_sessionprun\u001b[0m\u001b[1;33m(\u001b[0m\u001b[0mself\u001b[0m\u001b[1;33m,\u001b[0m \u001b[0mhandle\u001b[0m\u001b[1;33m,\u001b[0m \u001b[0mfeed_dict\u001b[0m\u001b[1;33m,\u001b[0m \u001b[0mfetch_list\u001b[0m\u001b[1;33m)\u001b[0m\u001b[1;33m:\u001b[0m\u001b[1;33m\u001b[0m\u001b[1;33m\u001b[0m\u001b[0m\n",
      "\u001b[1;31mKeyboardInterrupt\u001b[0m: "
     ]
    }
   ],
   "source": [
    "def network(x):\n",
    "    x_image = tf.reshape(x, [-1, 299, 299, 3])\n",
    "    \n",
    "    tf.summary.image('input', x_image, 3)\n",
    "    \n",
    "\n",
    "    conv1 = tf.layers.conv2d(x_image, 16, 4, 2, activation=tf.nn.relu, name='conv1')\n",
    "    \n",
    "    c1_vars = tf.get_collection(tf.GraphKeys.TRAINABLE_VARIABLES, 'conv1')\n",
    "    with tf.name_scope(\"conv1_\"):\n",
    "        tf.summary.histogram(\"weights_conv1\", c1_vars[0])\n",
    "        tf.summary.histogram(\"biases_conv1\", c1_vars[1])\n",
    "        tf.summary.histogram(\"activations_conv1\", conv1)\n",
    "\n",
    "    max1 = tf.layers.max_pooling2d(conv1, 2, 2)\n",
    "\n",
    "    conv2 = tf.layers.conv2d(max1, 32, 4, 2, activation=tf.nn.relu, name='conv2')\n",
    "    \n",
    "    c2_vars = tf.get_collection(tf.GraphKeys.TRAINABLE_VARIABLES, 'conv2')\n",
    "    with tf.name_scope(\"conv2_\"):   \n",
    "        tf.summary.histogram(\"weights_conv2\", c2_vars[0])\n",
    "        tf.summary.histogram(\"biases_conv2\", c2_vars[1])\n",
    "        tf.summary.histogram(\"activations_conv2\", conv2)\n",
    "    \n",
    "    max2 = tf.layers.max_pooling2d(conv2, 2, 2)\n",
    "    \n",
    "    conv3 = tf.layers.conv2d(max2, 64, 4, 1, activation=tf.nn.relu, name='conv3')\n",
    "    \n",
    "    c3_vars = tf.get_collection(tf.GraphKeys.TRAINABLE_VARIABLES, 'conv3')\n",
    "    with tf.name_scope(\"conv3_\"):   \n",
    "        tf.summary.histogram(\"weights_conv3\", c3_vars[0])\n",
    "        tf.summary.histogram(\"biases_conv3\", c3_vars[1])\n",
    "        tf.summary.histogram(\"activations_conv3\", conv3)\n",
    "    \n",
    "    max3 = tf.layers.max_pooling2d(conv3, 2, 1)\n",
    "    \n",
    "    conv4 = tf.layers.conv2d(max3, 32, 2, 1, activation=tf.nn.relu, name='conv4')\n",
    "    \n",
    "    c4_vars = tf.get_collection(tf.GraphKeys.TRAINABLE_VARIABLES, 'conv4')\n",
    "    with tf.name_scope(\"conv4_\"):   \n",
    "        tf.summary.histogram(\"weights_conv4\", c4_vars[0])\n",
    "        tf.summary.histogram(\"biases_conv4\", c4_vars[1])\n",
    "        tf.summary.histogram(\"activations_conv4\", conv4)\n",
    "    \n",
    "    max4 = tf.layers.max_pooling2d(conv4, 2, 2)\n",
    "    \n",
    "#     conv5 = tf.layers.conv2d(max4, 64, 2, 1, activation=tf.nn.relu, name='conv5')\n",
    "    \n",
    "#     c5_vars = tf.get_collection(tf.GraphKeys.TRAINABLE_VARIABLES, 'conv5')\n",
    "#     with tf.name_scope(\"conv5_\"):   \n",
    "#         tf.summary.histogram(\"weights_conv5\", c5_vars[0])\n",
    "#         tf.summary.histogram(\"biases_conv5\", c5_vars[1])\n",
    "#         tf.summary.histogram(\"activations_conv5\", conv5)\n",
    "    \n",
    "#     max5 = tf.layers.max_pooling2d(conv5, 2, 2)\n",
    "    \n",
    "    \n",
    "    \n",
    "    flatten = tf.contrib.layers.flatten(max4)\n",
    "\n",
    "#     fc1 = tf.layers.dense(flatten, 10000, activation=tf.nn.relu, name='fc1')\n",
    "    \n",
    "#     d1_vars = tf.get_collection(tf.GraphKeys.TRAINABLE_VARIABLES, 'fc1')\n",
    "#     with tf.name_scope(\"dense1_\"):\n",
    "#         tf.summary.histogram(\"weights_dense1\", d1_vars[0])\n",
    "#         tf.summary.histogram(\"biases_dense1\", d1_vars[1])\n",
    "#         tf.summary.histogram(\"activations_dense1\", fc1)\n",
    "        \n",
    "    fc1 = tf.layers.dense(flatten, 1024, activation=tf.nn.relu, name='fc1')\n",
    "    \n",
    "    d1_vars = tf.get_collection(tf.GraphKeys.TRAINABLE_VARIABLES, 'fc1')\n",
    "    with tf.name_scope(\"dense1_\"):\n",
    "        tf.summary.histogram(\"weights_dense1\", d1_vars[0])\n",
    "        tf.summary.histogram(\"biases_dense1\", d1_vars[1])\n",
    "        tf.summary.histogram(\"activations_dense1\", fc1)\n",
    "    \n",
    "    output = tf.layers.dense(fc1, 2, name='fc2')\n",
    "    \n",
    "    d2_vars = tf.get_collection(tf.GraphKeys.TRAINABLE_VARIABLES, 'fc2')\n",
    "    with tf.name_scope(\"dense2_\"):\n",
    "        tf.summary.histogram(\"weights_dense2\", d2_vars[0])\n",
    "        tf.summary.histogram(\"biases_dense2\", d2_vars[1])\n",
    "        tf.summary.histogram(\"activations_dense2\", output)\n",
    "    \n",
    "    return output\n",
    "\n",
    "tf.reset_default_graph()\n",
    "config = tf.ConfigProto()\n",
    "config.gpu_options.allow_growth = True\n",
    "    \n",
    "with tf.name_scope(\"inputs\"):\n",
    "    x = tf.placeholder(tf.float32, shape=[None, 299, 299, 3], name=\"x\")\n",
    "\n",
    "    y = tf.placeholder(tf.float32, shape=[None, 2], name=\"labels\")\n",
    "        \n",
    "        \n",
    "logits = network(x)\n",
    "        \n",
    "with tf.name_scope(\"xent\"):\n",
    "    xent = tf.reduce_mean(\n",
    "                    tf.nn.softmax_cross_entropy_with_logits_v2(\n",
    "                    logits=logits, labels=y), name=\"xent\")\n",
    "    tf.summary.scalar(\"xent\", xent)\n",
    "\n",
    "with tf.name_scope(\"train\"):\n",
    "    train_step = tf.train.AdamOptimizer(LR, name='Adam').minimize(xent)\n",
    "\n",
    "with tf.name_scope(\"accuracy\"):\n",
    "    correct_prediction = tf.equal(tf.argmax(logits, 1), tf.argmax(y, 1))\n",
    "    accuracy = tf.reduce_mean(tf.cast(correct_prediction, tf.float32))\n",
    "    tf.summary.scalar(\"accuracy\", accuracy)\n",
    "\n",
    "with tf.name_scope(\"accuracy_val\"):\n",
    "    correct_prediction_val = tf.equal(tf.argmax(logits, 1), tf.argmax(y, 1))\n",
    "    accuracy_val = tf.reduce_mean(tf.cast(correct_prediction_val, tf.float32))\n",
    "    tf.summary.scalar(\"accuracy_val\", accuracy_val)\n",
    "\n",
    "summ = tf.summary.merge_all()\n",
    "\n",
    "saver = tf.train.Saver()\n",
    "\n",
    "with tf.Session(config=config) as sess:\n",
    "        \n",
    "    from tensorboard.plugins.beholder import Beholder\n",
    "    beholder = Beholder(LOGDIR)\n",
    "    \n",
    "    sess.run(tf.global_variables_initializer())\n",
    "    writer = tf.summary.FileWriter(LOGDIR)\n",
    "    writer.add_graph(sess.graph)\n",
    "\n",
    "    for i in range(EPOCHS):\n",
    "        print(i)\n",
    "\n",
    "#         [train_accuracy, s] = sess.run([accuracy, summ], feed_dict={x: X_train[0:700], y: y_labels_train[0:700]})\n",
    "#         [test_accuracy, s] = sess.run([accuracy_val, summ], feed_dict={x: X_test[0:700], y: y_labels_test[0:700]})\n",
    "#         writer.add_summary(s, i)\n",
    "#             sess.run(train_step, feed_dict={x: X_train, y: y_labels_train})\n",
    "            \n",
    "        for j in range(math.ceil(len(X_train) / BATCH_SIZE)):\n",
    "            batch_x, batch_y = next_batch(num = BATCH_SIZE, data = X_train, labels = y_labels_train)\n",
    "            sess.run(train_step, feed_dict={x: batch_x, y: batch_y})\n",
    "        beholder.update(session=sess)\n",
    "\n",
    "    export_path =  './savedmodel12'\n",
    "    builder = tf.saved_model.builder.SavedModelBuilder(export_path)\n",
    "\n",
    "    tensor_info_x = tf.saved_model.utils.build_tensor_info(x)\n",
    "    tensor_info_y = tf.saved_model.utils.build_tensor_info(logits)\n",
    "\n",
    "    prediction_signature = (\n",
    "      tf.saved_model.signature_def_utils.build_signature_def(\n",
    "          inputs={'x_input': tensor_info_x},\n",
    "          outputs={'y_output': tensor_info_y},\n",
    "          method_name=tf.saved_model.signature_constants.PREDICT_METHOD_NAME))\n",
    "\n",
    "    builder.add_meta_graph_and_variables(\n",
    "      sess, [tf.saved_model.tag_constants.SERVING],\n",
    "      signature_def_map={\n",
    "          tf.saved_model.signature_constants.DEFAULT_SERVING_SIGNATURE_DEF_KEY:\n",
    "              prediction_signature \n",
    "      },\n",
    "      )\n",
    "    builder.save()\n",
    "    sess.close()"
   ]
  },
  {
   "cell_type": "code",
   "execution_count": null,
   "metadata": {},
   "outputs": [
    {
     "data": {
      "text/html": [
       "<script>Jupyter.notebook.kernel.restart()</script>"
      ]
     },
     "metadata": {},
     "output_type": "display_data"
    }
   ],
   "source": [
    "from IPython.display import display_html\n",
    "def restartkernel() :\n",
    "    display_html(\"<script>Jupyter.notebook.kernel.restart()</script>\",raw=True)\n",
    "restartkernel()"
   ]
  },
  {
   "cell_type": "code",
   "execution_count": null,
   "metadata": {},
   "outputs": [],
   "source": [
    "# from keras.datasets import mnist\n",
    "# (X_train, y_train), (X_test, y_test) = mnist.load_data()"
   ]
  },
  {
   "cell_type": "code",
   "execution_count": 1,
   "metadata": {},
   "outputs": [],
   "source": [
    "import pickle\n",
    "X_train = pickle.load(open(\"X_train.pickle\", \"rb\"))\n",
    "y_train = pickle.load(open(\"y_train.pickle\", \"rb\"))\n",
    "X_test = pickle.load(open(\"X_test.pickle\", \"rb\"))\n",
    "y_test = pickle.load(open(\"y_test.pickle\", \"rb\"))\n",
    "\n",
    "\n",
    "X_train = X_train.astype('float32')\n",
    "y_train = y_train.astype('float32')\n",
    "X_test = X_test.astype('float32')\n",
    "y_test = y_test.astype('float32')"
   ]
  },
  {
   "cell_type": "code",
   "execution_count": 2,
   "metadata": {
    "scrolled": false
   },
   "outputs": [
    {
     "name": "stdout",
     "output_type": "stream",
     "text": [
      "INFO:tensorflow:Restoring parameters from ./savedmodel12\\variables\\variables\n"
     ]
    }
   ],
   "source": [
    "import tensorflow as tf\n",
    "with tf.Session() as sess:\n",
    "    signature_key = tf.saved_model.signature_constants.DEFAULT_SERVING_SIGNATURE_DEF_KEY\n",
    "    input_key = 'x_input'\n",
    "    output_key = 'y_output'\n",
    "\n",
    "    export_path =  './savedmodel12'\n",
    "    meta_graph_def = tf.saved_model.loader.load(\n",
    "               sess,\n",
    "              [tf.saved_model.tag_constants.SERVING],\n",
    "              export_path)\n",
    "    signature = meta_graph_def.signature_def\n",
    "\n",
    "    x_tensor_name = signature[signature_key].inputs[input_key].name\n",
    "    y_tensor_name = signature[signature_key].outputs[output_key].name\n",
    "\n",
    "    x = sess.graph.get_tensor_by_name(x_tensor_name)\n",
    "    y = sess.graph.get_tensor_by_name(y_tensor_name)\n",
    "\n",
    "    y_out = sess.run(y, {x: X_test})"
   ]
  },
  {
   "cell_type": "code",
   "execution_count": 3,
   "metadata": {},
   "outputs": [],
   "source": [
    "import numpy as np\n",
    "predicted_values = []\n",
    "for i in range(len(y_out)):\n",
    "    index_max = np.argmax(y_out[i])\n",
    "    predicted_values.append(index_max)"
   ]
  },
  {
   "cell_type": "code",
   "execution_count": 4,
   "metadata": {},
   "outputs": [
    {
     "data": {
      "text/plain": [
       "<Figure size 640x480 with 1 Axes>"
      ]
     },
     "metadata": {},
     "output_type": "display_data"
    }
   ],
   "source": [
    "import matplotlib.pyplot as plt\n",
    "import numpy as np\n",
    "def imshow(img):\n",
    " # unnormalize\n",
    "    #npimg = img.numpy()\n",
    "    plt.imshow(np.transpose(img[0], (1, 2, 0)))\n",
    "    plt.show()\n",
    "plt.imshow(X_test[1], cmap=\"gray\")\n",
    "plt.show()"
   ]
  },
  {
   "cell_type": "code",
   "execution_count": 5,
   "metadata": {},
   "outputs": [],
   "source": [
    "def classification_metrics(actual, pred, msg):\n",
    "    from sklearn.metrics import confusion_matrix\n",
    "    cm = confusion_matrix(actual, pred)\n",
    "    import seaborn as sns     \n",
    "\n",
    "    plt.figure()\n",
    "    ax= plt.subplot()\n",
    "    sns.heatmap(cm, annot = True, fmt = 'g')\n",
    "\n",
    "    # labels, title and ticks\n",
    "    ax.set_xlabel('Predicted labels')\n",
    "    ax.set_ylabel('True labels') \n",
    "    ax.set_title('Confusion Matrix')\n",
    "    ax.xaxis.set_ticklabels(['0', '1', '2', '3', '4', '5', '6', '7', '8', '9']) \n",
    "    ax.yaxis.set_ticklabels(['0', '1', '2', '3', '4', '5', '6', '7', '8', '9'])   \n",
    "    plt.show()       \n",
    "    sensitivity = cm[1][1]/(cm[1][0] + cm[1][1])\n",
    "    specifity = cm[0][0]/(cm[0][0] + cm[0][1])\n",
    "    accuracy = (cm[0][0] + cm[1][1]) / np.sum(cm)\n",
    "    \n",
    "    print(msg, '\\n')\n",
    "    print('accuracy:    ', round(accuracy,2), \n",
    "      '\\nsensitivity: ', round(sensitivity,2), \n",
    "      '\\nspecifity:   ', round(specifity,2))\n",
    "#     from sklearn.metrics import classification_report\n",
    "#     print(classification_report(actual, pred))\n",
    "              \n"
   ]
  },
  {
   "cell_type": "code",
   "execution_count": 6,
   "metadata": {},
   "outputs": [
    {
     "data": {
      "image/png": "[encoded data removed]",
      "text/plain": [
       "<Figure size 432x288 with 2 Axes>"
      ]
     },
     "metadata": {
      "needs_background": "light"
     },
     "output_type": "display_data"
    },
    {
     "name": "stdout",
     "output_type": "stream",
     "text": [
      " \n",
      "\n",
      "accuracy:     0.7 \n",
      "sensitivity:  0.6 \n",
      "specifity:    0.79\n"
     ]
    }
   ],
   "source": [
    "classification_metrics((y_test).astype(int), predicted_values, msg = '')"
   ]
  },
  {
   "cell_type": "code",
   "execution_count": 7,
   "metadata": {},
   "outputs": [
    {
     "data": {
      "text/plain": [
       "(126, 126)"
      ]
     },
     "execution_count": 7,
     "metadata": {},
     "output_type": "execute_result"
    }
   ],
   "source": [
    "X_test[0].shape"
   ]
  },
  {
   "cell_type": "code",
   "execution_count": null,
   "metadata": {},
   "outputs": [],
   "source": [
    "import matplotlib.pyplot as plt\n",
    "plt.imshow((X_test[0]).astype(int))\n",
    "img = (X_test[0]).astype(int)"
   ]
  },
  {
   "cell_type": "code",
   "execution_count": null,
   "metadata": {},
   "outputs": [],
   "source": []
  }
 ],
 "metadata": {
  "kernelspec": {
   "display_name": "Python 3",
   "language": "python",
   "name": "python3"
  },
  "language_info": {
   "codemirror_mode": {
    "name": "ipython",
    "version": 3
   },
   "file_extension": ".py",
   "mimetype": "text/x-python",
   "name": "python",
   "nbconvert_exporter": "python",
   "pygments_lexer": "ipython3",
   "version": "3.6.7"
  }
 },
 "nbformat": 4,
 "nbformat_minor": 2
}
